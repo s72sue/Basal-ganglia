{
 "cells": [
  {
   "cell_type": "markdown",
   "metadata": {},
   "source": [
    "# Go/NOGO task"
   ]
  },
  {
   "cell_type": "markdown",
   "metadata": {},
   "source": [
    "By Sugandha Sharma, June 11, 2018"
   ]
  },
  {
   "cell_type": "markdown",
   "metadata": {},
   "source": [
    "In this notebook, I use the Semantic Pointer Architecture to implement a model of the GO/NOGO task. The details about the basal ganglia network used in this model can be found at:  http://compneuro.uwaterloo.ca/files/publications/stewart.2010.pdf   <br>\n",
    "\n",
    "In the model, GREEN cue indicates GO trials, and BLUE cue indicates NOGO trials."
   ]
  },
  {
   "cell_type": "code",
   "execution_count": 3,
   "metadata": {
    "collapsed": true
   },
   "outputs": [],
   "source": [
    "import nengo_spa as spa\n",
    "import nengo\n",
    "\n",
    "\n",
    "dims  = 32\n",
    "s = spa.sym\n",
    "\n",
    "model = spa.Network(label='go/nogo')\n",
    "with model:\n",
    "\n",
    "    visual = spa.State(dims, label = 'visual')\n",
    "    motor = spa.State(dims, label = 'motor')  \n",
    "        \n",
    "    def cue(t):\n",
    "        if t<=0.2:\n",
    "            return '0'\n",
    "        if 0.2<t<=0.3:\n",
    "            return 'GREEN'\n",
    "        elif 0.4<t<=0.5:\n",
    "            return 'BLUE'\n",
    "        elif 0.6<t<=0.7:\n",
    "            return 'GREEN'\n",
    "        else:\n",
    "            return '0'\n",
    "\n",
    "    stim_vis = spa.Transcode(cue, output_vocab=visual.vocab, label='cue')\n",
    "    stim_vis >> visual\n",
    "    \n",
    "    with spa.ActionSelection():\n",
    "            spa.ifmax( 0.4, s.X*0 >> motor)\n",
    "            spa.ifmax( 0.7*spa.dot(visual, s.GREEN), s.GO >> motor )\n",
    "            spa.ifmax( 0.7*spa.dot(visual, s.BLUE), s.X*0 >> motor )"
   ]
  },
  {
   "cell_type": "code",
   "execution_count": 4,
   "metadata": {
    "collapsed": false
   },
   "outputs": [
    {
     "data": {
      "text/html": [
       "\n",
       "                <div id=\"2c42a6ec-28aa-42d4-81b8-909faa212cc3\">\n",
       "                    <iframe\n",
       "                        src=\"http://localhost:59674/?token=47907108c29f3a65fc74788ab2979bd7b01b3bac55f26f8f\"\n",
       "                        width=\"100%\"\n",
       "                        height=\"600\"\n",
       "                        frameborder=\"0\"\n",
       "                        class=\"cell\"\n",
       "                        style=\"border: 1px solid #eee;\"\n",
       "                        allowfullscreen></iframe>\n",
       "                </div>\n",
       "            "
      ],
      "text/plain": [
       "<IPython.core.display.HTML object>"
      ]
     },
     "metadata": {},
     "output_type": "display_data"
    }
   ],
   "source": [
    "from nengo_gui.ipython import IPythonViz\n",
    "IPythonViz(model)"
   ]
  },
  {
   "cell_type": "code",
   "execution_count": null,
   "metadata": {
    "collapsed": true
   },
   "outputs": [],
   "source": []
  }
 ],
 "metadata": {
  "kernelspec": {
   "display_name": "Python 2",
   "language": "python",
   "name": "python2"
  },
  "language_info": {
   "codemirror_mode": {
    "name": "ipython",
    "version": 2
   },
   "file_extension": ".py",
   "mimetype": "text/x-python",
   "name": "python",
   "nbconvert_exporter": "python",
   "pygments_lexer": "ipython2",
   "version": "2.7.10"
  }
 },
 "nbformat": 4,
 "nbformat_minor": 0
}
